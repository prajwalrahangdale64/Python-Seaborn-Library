{
 "cells": [
  {
   "cell_type": "markdown",
   "id": "fb034b0a-66a3-4b9f-8cab-c48786cc58dd",
   "metadata": {},
   "source": [
    "# <u>Introduction."
   ]
  },
  {
   "cell_type": "markdown",
   "id": "333be4b8-00bf-46b8-abca-ee2045221f36",
   "metadata": {},
   "source": [
    "- **Seaborn is a statistical plotting library and it's built on top of Matplotlib.**"
   ]
  },
  {
   "cell_type": "markdown",
   "id": "6345add4-8af3-42c1-84f0-6518cececf44",
   "metadata": {},
   "source": [
    "- **Seaborn has really beautiful default styles.**"
   ]
  },
  {
   "cell_type": "markdown",
   "id": "0940b8ae-cdce-482c-a829-9f83105f3777",
   "metadata": {},
   "source": [
    "- **It's also designed to work really well with pandas DataFrame objects.**"
   ]
  },
  {
   "cell_type": "markdown",
   "id": "88cf45fc-4740-47de-9d92-51ef656f45fa",
   "metadata": {},
   "source": [
    "---"
   ]
  },
  {
   "cell_type": "markdown",
   "id": "d45b7939-3ead-4322-83a5-ce9d838cb67f",
   "metadata": {},
   "source": [
    "# <u>Installation"
   ]
  },
  {
   "attachments": {
    "2e337fc9-c7fa-4aa1-bd55-4b5b556a7ce7.PNG": {
     "image/png": "[encoded data removed]"
    }
   },
   "cell_type": "markdown",
   "id": "9d23ba7b-a1cb-4f7b-aeb1-0f28dfa6cb5b",
   "metadata": {},
   "source": [
    "Either run:\n",
    "\n",
    "conda install seaborn\n",
    "\n",
    "or\n",
    "\n",
    "pip install seaborn\n",
    "\n",
    "at the command line or terminal.\n",
    "\n",
    "![Capture1.PNG](attachment:2e337fc9-c7fa-4aa1-bd55-4b5b556a7ce7.PNG)\n",
    "\n",
    "Done!"
   ]
  },
  {
   "cell_type": "markdown",
   "id": "3f0159bb-7c1e-478b-9570-351f1727e80b",
   "metadata": {},
   "source": [
    "---"
   ]
  },
  {
   "cell_type": "markdown",
   "id": "3a7747a4-3fad-424e-8ef5-13bf9eb1b905",
   "metadata": {},
   "source": [
    "# <u> Official Documentation."
   ]
  },
  {
   "cell_type": "markdown",
   "id": "81d2ee7a-b05d-4197-8827-d4340b5b0a10",
   "metadata": {},
   "source": [
    "***Since Seaborn is open-source and it's hosted on github. We can google search 'github seaborn python' to go to the github page for Seaborn.***\n",
    "\n",
    "***Github link:*** https://github.com/mwaskom/seaborn"
   ]
  },
  {
   "cell_type": "markdown",
   "id": "1e1e5d75-ed60-4cc8-847c-7bef820b82a2",
   "metadata": {},
   "source": [
    "***Official Documentation link:*** https://seaborn.pydata.org/\n",
    "\n",
    "- Now something that's nice about this official documentation page is that just like Matplotlib site it has a gallery section.\n",
    "\n",
    "  https://seaborn.pydata.org/examples/index.html\n",
    "\n",
    "- The other really important link besides the gallery page is the API and the API reference is basically a reference to the various plot types. And this is what we're going to be going over as we learn how to use Seaborn. So we're going to really effectively learn how to actually call these plots, utilizing pandas of these plots and create really nice looking statistical plot visualizations.\n",
    "\n",
    "    https://seaborn.pydata.org/api.html"
   ]
  },
  {
   "cell_type": "markdown",
   "id": "f6edec75-93f8-45fe-9ec8-9e557f5db8d3",
   "metadata": {},
   "source": [
    "---"
   ]
  }
 ],
 "metadata": {
  "kernelspec": {
   "display_name": "Python 3 (ipykernel)",
   "language": "python",
   "name": "python3"
  },
  "language_info": {
   "codemirror_mode": {
    "name": "ipython",
    "version": 3
   },
   "file_extension": ".py",
   "mimetype": "text/x-python",
   "name": "python",
   "nbconvert_exporter": "python",
   "pygments_lexer": "ipython3",
   "version": "3.13.5"
  }
 },
 "nbformat": 4,
 "nbformat_minor": 5
}
